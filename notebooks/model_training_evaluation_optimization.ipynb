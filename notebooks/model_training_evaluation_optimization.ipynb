{
 "cells": [
  {
   "cell_type": "markdown",
   "id": "f38c570e-cfb9-4bd0-8679-f819d79c0d95",
   "metadata": {},
   "source": [
    "# Car Price Prediction with Regression Model\n",
    "\n",
    "## Project Overview\n",
    "\n",
    "This project aims to predict the **price** of cars based on various features, such as the **make**, **model**, **year**, **mileage**, and **condition**. By analyzing these factors and their impact on car prices, we can build a predictive model to estimate the value of a car based on its attributes.\n",
    "\n",
    "## About the Dataset\n",
    "\n",
    "The dataset used in this project is a synthetic dataset generated to simulate real-world car price variability. It contains information on car prices and associated features, offering a solid foundation for data analysis and regression modeling.\n",
    "\n",
    "## Data Source\n",
    "\n",
    "This dataset is available on Kaggle in the following link:\n",
    "> https://www.kaggle.com/datasets/mrsimple07/car-prices-prediction-data/data\n",
    "\n",
    "## Dataset Summary\n",
    "The dataset contains multiple features related to car characteristics, which are detailed below:\n",
    "\n",
    "- **Make**: The brand or manufacturer of the car (e.g., Toyota, Honda, Ford).\n",
    "- **Model**: The specific model of the car (e.g., Camry, Civic, F-150).\n",
    "- **Year**: The manufacturing year of the car.\n",
    "- **Mileage**: The total mileage (in miles) of the car.\n",
    "- **Condition**: The condition of the car, categorized as Excellent, Good, or Fair.\n",
    "- **Price**: The target variable, representing the price of the car.\n",
    "\n",
    "## Problem Statement\n",
    "\n",
    "This project is designed for exploratory data analysis (EDA) and predictive modeling. The main objectives include:\n",
    "1. Conducting exploratory data analysis to understand data distribution and relationships.\n",
    "2. Building and evaluating regression models to predict car prices based on available features.\n",
    "3. Implementing feature engineering techniques for improved model performance.\n",
    "\n",
    "### Techniques Used\n",
    "- **Data Cleaning**: Handling data types, encoding categorical variables, and checking data consistency.\n",
    "- **Data Visualization**: Plotting distributions, correlations, and feature impacts on car prices.\n",
    "- **Regression Modeling**: Using models like Linear Regression, Ridge, Lasso, and others to predict car prices.\n",
    "- **Evaluation Metrics**: Analyzing model performance using metrics like R2, RMSE, and MAE."
   ]
  },
  {
   "cell_type": "markdown",
   "id": "610ce180-5db4-4695-ade5-4f6a4a7f1bb6",
   "metadata": {},
   "source": [
    "### Load Libraries"
   ]
  },
  {
   "cell_type": "code",
   "execution_count": 2,
   "id": "295aae90-5e0f-4e58-9e17-b94e0547e554",
   "metadata": {},
   "outputs": [],
   "source": [
    "# General\n",
    "import pandas as pd\n",
    "import numpy as np\n",
    "import os\n",
    "import warnings\n",
    "\n",
    "# Preprocessing\n",
    "from sklearn.preprocessing import StandardScaler\n",
    "from sklearn.model_selection import train_test_split\n",
    "\n",
    "# Model and Evaluation Metrics\n",
    "from sklearn.linear_model import Ridge, Lasso\n",
    "from sklearn.metrics import r2_score, mean_absolute_error, mean_squared_error"
   ]
  },
  {
   "cell_type": "markdown",
   "id": "7d982d6a-f4d1-4569-b700-bc9f8f3b12ba",
   "metadata": {},
   "source": [
    "### Settings"
   ]
  },
  {
   "cell_type": "code",
   "execution_count": 3,
   "id": "f4c04c1f-9582-4b11-b517-bc0d3e339e88",
   "metadata": {},
   "outputs": [],
   "source": [
    "# Warnings\n",
    "warnings.filterwarnings(\"ignore\")\n",
    "\n",
    "# Path\n",
    "data_path = \"../data\"\n",
    "csv_path = os.path.join(data_path, \"CarPrice_cleaned.csv\")"
   ]
  },
  {
   "cell_type": "markdown",
   "id": "7358f7d4-9a43-4830-976b-84d52291d6d3",
   "metadata": {},
   "source": [
    "### Load Data"
   ]
  },
  {
   "cell_type": "code",
   "execution_count": 4,
   "id": "35164f49-3dd5-4295-834e-100d9f4821bf",
   "metadata": {},
   "outputs": [],
   "source": [
    "df = pd.read_csv(csv_path)"
   ]
  },
  {
   "cell_type": "code",
   "execution_count": 5,
   "id": "b252b22c-7d8d-42aa-9006-572a47250475",
   "metadata": {},
   "outputs": [
    {
     "data": {
      "text/html": [
       "<div>\n",
       "<style scoped>\n",
       "    .dataframe tbody tr th:only-of-type {\n",
       "        vertical-align: middle;\n",
       "    }\n",
       "\n",
       "    .dataframe tbody tr th {\n",
       "        vertical-align: top;\n",
       "    }\n",
       "\n",
       "    .dataframe thead th {\n",
       "        text-align: right;\n",
       "    }\n",
       "</style>\n",
       "<table border=\"1\" class=\"dataframe\">\n",
       "  <thead>\n",
       "    <tr style=\"text-align: right;\">\n",
       "      <th></th>\n",
       "      <th>Mileage</th>\n",
       "      <th>Condition</th>\n",
       "      <th>Price</th>\n",
       "      <th>Age</th>\n",
       "    </tr>\n",
       "  </thead>\n",
       "  <tbody>\n",
       "    <tr>\n",
       "      <th>0</th>\n",
       "      <td>18107</td>\n",
       "      <td>3</td>\n",
       "      <td>19094.75</td>\n",
       "      <td>2</td>\n",
       "    </tr>\n",
       "    <tr>\n",
       "      <th>1</th>\n",
       "      <td>13578</td>\n",
       "      <td>3</td>\n",
       "      <td>27321.10</td>\n",
       "      <td>10</td>\n",
       "    </tr>\n",
       "    <tr>\n",
       "      <th>2</th>\n",
       "      <td>46054</td>\n",
       "      <td>1</td>\n",
       "      <td>23697.30</td>\n",
       "      <td>8</td>\n",
       "    </tr>\n",
       "    <tr>\n",
       "      <th>3</th>\n",
       "      <td>34981</td>\n",
       "      <td>3</td>\n",
       "      <td>18251.05</td>\n",
       "      <td>2</td>\n",
       "    </tr>\n",
       "    <tr>\n",
       "      <th>4</th>\n",
       "      <td>63565</td>\n",
       "      <td>3</td>\n",
       "      <td>19821.85</td>\n",
       "      <td>5</td>\n",
       "    </tr>\n",
       "  </tbody>\n",
       "</table>\n",
       "</div>"
      ],
      "text/plain": [
       "   Mileage  Condition     Price  Age\n",
       "0    18107          3  19094.75    2\n",
       "1    13578          3  27321.10   10\n",
       "2    46054          1  23697.30    8\n",
       "3    34981          3  18251.05    2\n",
       "4    63565          3  19821.85    5"
      ]
     },
     "execution_count": 5,
     "metadata": {},
     "output_type": "execute_result"
    }
   ],
   "source": [
    "# Check data\n",
    "df.head()"
   ]
  },
  {
   "cell_type": "markdown",
   "id": "abeb014e-d0bb-424c-9dd1-0ab734ad308f",
   "metadata": {},
   "source": [
    "### Preprocessing"
   ]
  },
  {
   "cell_type": "code",
   "execution_count": 6,
   "id": "42368308-d1fd-47bb-88b0-61c7d2fc2885",
   "metadata": {},
   "outputs": [],
   "source": [
    "# Separate Input and Output features\n",
    "X = df.drop(\"Price\", axis= 1)\n",
    "y = df[\"Price\"]"
   ]
  },
  {
   "cell_type": "code",
   "execution_count": 7,
   "id": "9fb6a634-8eff-41c3-9c6b-9b8eb3ce9090",
   "metadata": {},
   "outputs": [],
   "source": [
    "# Split train and test data\n",
    "X_train, X_test, y_train, y_test = train_test_split(X, y, test_size= 0.2, random_state= 42)"
   ]
  },
  {
   "cell_type": "code",
   "execution_count": 8,
   "id": "476661c3-ea81-4610-a0da-cce7677014fb",
   "metadata": {},
   "outputs": [],
   "source": [
    "# Standardize the data\n",
    "scaler = StandardScaler()\n",
    "X_train_s = scaler.fit_transform(X_train)\n",
    "X_test_s = scaler.transform(X_test)"
   ]
  },
  {
   "cell_type": "markdown",
   "id": "15d1d2e3-d5f9-4639-84b1-bf82a885ea33",
   "metadata": {},
   "source": [
    "### Model Training and Evaluation"
   ]
  },
  {
   "cell_type": "code",
   "execution_count": 9,
   "id": "6a19de6c-71ef-46d3-9145-639e6382cf43",
   "metadata": {},
   "outputs": [],
   "source": [
    "# Define function to train the model and evaluate by different metrics\n",
    "\n",
    "def train_evaluate(model):\n",
    "    # Train the model\n",
    "    model.fit(X_train_s, y_train)\n",
    "\n",
    "    # Predict with trained model\n",
    "    y_train_pred = model.predict(X_train_s)\n",
    "    y_test_pred = model.predict(X_test_s)\n",
    "\n",
    "    # Print the evaluation metrics\n",
    "    print(\"=\" * 60)\n",
    "    print(\"EVALUATION METRICS ON TRAIN DATA\")\n",
    "    print(\"=\" * 60)\n",
    "    print(f\"R2 Score: {r2_score(y_train, y_train_pred)}\")\n",
    "    print(f\"MAE: {mean_absolute_error(y_train, y_train_pred)}\")\n",
    "    print(f\"MSE: {mean_squared_error(y_train, y_train_pred)}\")\n",
    "    print(f\"RMSE: {np.sqrt(mean_squared_error(y_train, y_train_pred))}\")\n",
    "    print(\"=\" * 60)\n",
    "    print(\"EVALUATION METRICS ON TEST DATA\")\n",
    "    print(\"=\" * 60)\n",
    "    print(f\"R2 Score: {r2_score(y_test, y_test_pred)}\")\n",
    "    print(f\"MAE: {mean_absolute_error(y_test, y_test_pred)}\")\n",
    "    print(f\"MSE: {mean_squared_error(y_test, y_test_pred)}\")\n",
    "    print(f\"RMSE: {np.sqrt(mean_squared_error(y_test, y_test_pred))}\")"
   ]
  },
  {
   "cell_type": "code",
   "execution_count": 10,
   "id": "c8e9e57d-7d82-4e03-b26a-4d2e0107190d",
   "metadata": {},
   "outputs": [
    {
     "name": "stdout",
     "output_type": "stream",
     "text": [
      "============================================================\n",
      "EVALUATION METRICS ON TRAIN DATA\n",
      "============================================================\n",
      "R2 Score: 0.9999983326732879\n",
      "MAE: 4.529409091646016\n",
      "MSE: 29.067126463763692\n",
      "RMSE: 5.391393740375831\n",
      "============================================================\n",
      "EVALUATION METRICS ON TEST DATA\n",
      "============================================================\n",
      "R2 Score: 0.9999983172826974\n",
      "MAE: 4.823706075947467\n",
      "MSE: 34.09718222813823\n",
      "RMSE: 5.83927925587895\n"
     ]
    }
   ],
   "source": [
    "# Try Ridge\n",
    "r = Ridge()\n",
    "train_evaluate(r)"
   ]
  },
  {
   "cell_type": "markdown",
   "id": "c586fc72-657b-414b-919e-9835b48ed238",
   "metadata": {},
   "source": [
    "### Insights\n",
    "\n",
    "Your Ridge regression model for car price prediction is performing exceptionally well, showing near-perfect R² scores and low errors on both training and test data. Here’s a closer look:\n",
    "\n",
    "#### Training Performance:\n",
    "\n",
    "- **R2 Score: 0.9999983** This indicates that the model explains nearly all the variance in car prices on the training data.\n",
    "- **MAE: 4.53** The average absolute error is very low, meaning predictions are close to actual prices.\n",
    "- **MSE: 29.07, RMSE: 5.39** These low values indicate that the squared error and overall prediction error are minimized.\n",
    "\n",
    "#### Testing Performance:\n",
    "\n",
    "- **R2 Score: 0.9999983** This is almost identical to the training R2 score, indicating excellent generalization and no overfitting.\n",
    "- **MAE: 4.82** A slight increase from the training data but still very low, showing the model’s stability.\n",
    "- **MSE: 34.10, RMSE: 5.84** Slightly higher than the training error, but these values remain low, indicating effective performance on unseen data.\n",
    "\n",
    "#### Analysis:\n",
    "\n",
    "- **Very High R2 and Low Errors:** With R2 values close to **1** and very low error metrics, your model is capturing the relationship in the data almost perfectly.\n",
    "- **Slightly Higher Testing Errors:** A small increase in test errors (MAE, MSE, and RMSE) is normal and expected, indicating that the model generalizes well without significant overfitting.\n",
    "\n",
    "#### Conclusion:\n",
    "\n",
    "This Ridge regression model on car price prediction is highly effective, with almost perfect accuracy and very minimal errors. It seems well-optimized, and further tuning may yield marginal improvements at best."
   ]
  },
  {
   "cell_type": "code",
   "execution_count": 11,
   "id": "c9afd7e2-6998-4378-a54f-84c24325a616",
   "metadata": {},
   "outputs": [
    {
     "name": "stdout",
     "output_type": "stream",
     "text": [
      "============================================================\n",
      "EVALUATION METRICS ON TRAIN DATA\n",
      "============================================================\n",
      "R2 Score: 0.999999880290013\n",
      "MAE: 1.180915114828806\n",
      "MSE: 2.086948711100448\n",
      "RMSE: 1.4446275336917984\n",
      "============================================================\n",
      "EVALUATION METRICS ON TEST DATA\n",
      "============================================================\n",
      "R2 Score: 0.9999998771698237\n",
      "MAE: 1.2403011227311618\n",
      "MSE: 2.488928411245058\n",
      "RMSE: 1.5776338013763074\n"
     ]
    }
   ],
   "source": [
    "# Try Lasso\n",
    "l = Lasso()\n",
    "train_evaluate(l)"
   ]
  },
  {
   "cell_type": "markdown",
   "id": "08fe6da0-ffc0-4f34-810f-90af9f093e85",
   "metadata": {},
   "source": [
    "### Insights\n",
    "\n",
    "Your Lasso regression model for car price prediction is showing exceptionally high accuracy with even lower errors compared to Ridge regression. Here’s a detailed breakdown:\n",
    "\n",
    "#### Training Performance:\n",
    "\n",
    "- **R2 Score: 0.99999988** Indicates that nearly **100%** of the variance in car prices is explained by the model on the training data.\n",
    "- **MAE: 1.18, MSE: 2.09, RMSE: 1.44** These low error values highlight that the model’s predictions are extremely close to the actual values, suggesting a high level of accuracy.\n",
    "\n",
    "#### Testing Performance:\n",
    "\n",
    "- **R2 Score: 0.99999988** Practically identical to the training R2 score, showing that the model generalizes very well to unseen data.\n",
    "- **MAE: 1.24** Slightly higher than the training MAE but still remarkably low, indicating the model’s stability.\n",
    "- **MSE: 2.49, RMSE: 1.58** Both metrics are slightly higher on the test set but remain very low overall, reinforcing the model’s strong predictive power.\n",
    "\n",
    "#### Analysis:\n",
    "\n",
    "- **High Accuracy and Minimal Errors:** The R2 values are close to **1**, and the MAE, MSE, and RMSE metrics are exceptionally low, indicating the model’s excellent fit to the data.\n",
    "- **Good Generalization:** The minimal increase in error metrics on the test data implies that the model avoids overfitting and performs consistently well on unseen data.\n",
    "\n",
    "#### Conclusion:\n",
    "The Lasso regression model performs slightly better than Ridge for this dataset, especially in terms of reducing prediction errors. This suggests that the sparsity induced by Lasso, which reduces potential multicollinearity by selecting relevant features, may be beneficial for this dataset."
   ]
  },
  {
   "cell_type": "code",
   "execution_count": null,
   "id": "d91146c5-57ed-4b7e-9969-610c5a10757c",
   "metadata": {},
   "outputs": [],
   "source": []
  }
 ],
 "metadata": {
  "kernelspec": {
   "display_name": "Python 3 (ipykernel)",
   "language": "python",
   "name": "python3"
  },
  "language_info": {
   "codemirror_mode": {
    "name": "ipython",
    "version": 3
   },
   "file_extension": ".py",
   "mimetype": "text/x-python",
   "name": "python",
   "nbconvert_exporter": "python",
   "pygments_lexer": "ipython3",
   "version": "3.11.9"
  },
  "widgets": {
   "application/vnd.jupyter.widget-state+json": {
    "state": {},
    "version_major": 2,
    "version_minor": 0
   }
  }
 },
 "nbformat": 4,
 "nbformat_minor": 5
}
